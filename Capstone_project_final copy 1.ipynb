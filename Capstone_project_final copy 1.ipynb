{
    "nbformat_minor": 1, 
    "cells": [
        {
            "source": "<h1> Capstone Project-The Battle of Neighborhoods </h1>\n<h3> Applied Data Science Capstone by IBM/Coursera (Week1) </h3>", 
            "cell_type": "markdown", 
            "metadata": {}
        }, 
        {
            "source": "<hr>", 
            "cell_type": "markdown", 
            "metadata": {}
        }, 
        {
            "source": "As part of the Final Capstone Project, the course requires us to come up with a business problem and use foursquare and Machine learning techniques to solve it.", 
            "cell_type": "markdown", 
            "metadata": {}
        }, 
        {
            "source": "## Table of contents\n* [Introduction: Business Problem](#introduction)\n* [Data: Requirement and Collection](#data)\n* [Methodology](#methodology)\n* [Analysis](#analysis)\n* [Results and Discussion](#results)\n* [Conclusion](#conclusion)", 
            "cell_type": "markdown", 
            "metadata": {}
        }, 
        {
            "source": "## Introduction: Business Problem <a name=\"introduction\"></a> (Week1:Part1)", 
            "cell_type": "markdown", 
            "metadata": {}
        }, 
        {
            "source": "### \"Prospects of starting a Restaurant cum Catering service by inspecting the Zones of Chennai\"", 
            "cell_type": "markdown", 
            "metadata": {}
        }, 
        {
            "source": "Chennai being one of the metropolitan areas, is one of the growing IT hubs of India. With a population of 8.7 million people (86,96,010) in an area of 426 $km^2$, the city of Chennai also has a lot of leading industries including automobile, textile, petrochemicals, and hardware manufacturing. All of this makes it a potential place to start a new business. <br>\n<br>\nWhile looking for places to open a business, we need to select the busiest zones in Chennai where a constant crowd is guaranteed. In a city like Chennai there will be a huge competition for businesses. Keeping this in mind, the surrounding of the selected zones should not have a lot of similar businesses as ours. Analyzing the office areas of the zones, it is expected that there will be a lot of restaurants. But a catering service is an idea which is not much explored in these areas. So, opening up a catering service which will also operate as a restaurant will be a brilliant idea to try.", 
            "cell_type": "markdown", 
            "metadata": {}
        }, 
        {
            "source": "While looking for places to open a business, we need to select the busiest zones in Chennai where a constant crowd is guaranteed. In a city like Chennai there will be a huge competition for businesses. Keeping this in mind, the surrounding of the selected zones should not have a lot of similar businesses as ours. Analyzing the office areas of the zones, it is expected that there will be a lot of restaurants. But a catering service is an idea which is not much explored in these areas. So, opening up a catering service which will also operate as a restaurant will be a brilliant idea to try.", 
            "cell_type": "markdown", 
            "metadata": {}
        }, 
        {
            "source": "The Business Problem can be stated as: \n<h4>\u201cWhat is the best place to open a Restaurant-cum-Catering Service in Chennai?\u201d</h4>\n", 
            "cell_type": "markdown", 
            "metadata": {}
        }, 
        {
            "source": "<img src='http://www.hcmadras.tn.nic.in/image/mhc-twilight-view.jpg'/>", 
            "cell_type": "markdown", 
            "metadata": {}
        }, 
        {
            "source": "<h3> Target Audience:</h3>\n\n* The primary target audience for this project are definitely the entrepreneurs who want to open up a new business \n* Investors who want to invest in good business ideas\n* Offices in the locality of the business who will be interested in a contract-based catering service or employees who are interested in placing a catering order \n* Students who are exploring Data Science and are trying to learn the art of telling a story by training, analyzing and learning from a data \n", 
            "cell_type": "markdown", 
            "metadata": {}
        }, 
        {
            "source": "<h2> Data: Requirements and collection (Week1:Part2) </h2> <a name=\"data\"></a>", 
            "cell_type": "markdown", 
            "metadata": {}
        }, 
        {
            "source": "To open a business in an area, one needs to analyze the area, based on the average land prices, housing prices, most frequent venues, target audience, the competition and many other factors. <br>\nIn this project, the data requirements and collection are as below:\n", 
            "cell_type": "markdown", 
            "metadata": {}
        }, 
        {
            "source": "1. <b>Zones Data (along with Coordinates)</b>\n    * <b>Requirement:</b> There are 15 zones in Chennai with a total of 200 wards. The basic data required to start this project is the names of all these Zones along with their coordinates\n    * <b>Collection:</b> Web scape the data of Zones of Chennai using <b>\u2018BeautifulSoup\u2019</b>. Use <b>\u2018Python Geocoder\u2019</b> to get the latitude and longitude values of these zones.", 
            "cell_type": "markdown", 
            "metadata": {}
        }, 
        {
            "source": "2. <b>Professional Venue Data</b>\n    * <b>Requirement:</b> From these 15 zones we need to find out which zones have the most professional venues like offices, hospitals, industries, factories etc. In other words, we need to know in which zones we will have a constant flow of people (customers). \n    * <b>Collection:</b> Using <b>\u2018Foursquare\u2019</b> by giving a specific category ID we can find the most frequent professional venues in these 15 zones.", 
            "cell_type": "markdown", 
            "metadata": {}
        }, 
        {
            "source": "3. <b>Nearby Venues Data</b>\n    * <b>Requirement:</b> We need to have an idea about the competition before we open a business. So, we need data about the most frequent venues nearby each selected zone.\n    * <b>Collection:</b> Explore the zones using <b>\u2018Foursquare\u2019</b> ", 
            "cell_type": "markdown", 
            "metadata": {}
        }, 
        {
            "source": "4. <b>Pricing Data</b>\n    * <b>Requirement:</b> Pricing data will help us in two ways:\n        * By giving us an estimate of the price values if you want to buy the land or rent it for the business.\n        * By giving us an idea about what kind of resident customers we are dealing with\n    * <b>Collection:</b> Websites have pricing data for all zones of Chennai. (It is generally difficult to find accurate pricing data.)", 
            "cell_type": "markdown", 
            "metadata": {}
        }, 
        {
            "source": "\nStep by step lets collect the data.", 
            "cell_type": "markdown", 
            "metadata": {}
        }, 
        {
            "source": "<h4>1. Zones Data (along with Coordinates)</h4>", 
            "cell_type": "markdown", 
            "metadata": {}
        }, 
        {
            "source": "Data about the zones of Chennai can be obtained [from this website](https://en.wikipedia.org/wiki/List_of_Chennai_Corporation_zones) using Web scraping. [<b>BeautifulSoup</b>](https://beautiful-soup-4.readthedocs.io/en/latest/) is a python library used to scrape data from HTML and XML files. It works along with a parser (lxml parser is being used here).", 
            "cell_type": "markdown", 
            "metadata": {}
        }, 
        {
            "execution_count": 55, 
            "cell_type": "code", 
            "metadata": {}, 
            "outputs": [], 
            "source": "from bs4 import BeautifulSoup\nimport requests"
        }, 
        {
            "source": "To get the source code use the 'get' method.", 
            "cell_type": "markdown", 
            "metadata": {}
        }, 
        {
            "execution_count": 56, 
            "cell_type": "code", 
            "metadata": {}, 
            "outputs": [], 
            "source": "source = requests.get('https://en.wikipedia.org/wiki/List_of_Chennai_Corporation_zones').text\nsoup = BeautifulSoup(source, 'lxml')\n"
        }, 
        {
            "source": "After inspecting the source code, find the class of the table you want to scrape and identify the rows and columns.", 
            "cell_type": "markdown", 
            "metadata": {}
        }, 
        {
            "execution_count": 57, 
            "cell_type": "code", 
            "metadata": {}, 
            "outputs": [], 
            "source": "table = soup.find('table', class_ = 'wikitable sortable')\nrows = table.find_all('tr')"
        }, 
        {
            "execution_count": 58, 
            "cell_type": "code", 
            "metadata": {}, 
            "outputs": [], 
            "source": "locations = []\nfor row in rows:\n    col = row.find_all('td')\n    col = [x.text.strip() for x in col]\n    try:\n        locations.append(col[1])\n    except:\n        locations.append(0)\ndel locations[0]"
        }, 
        {
            "source": "Once the column is extracted create a DataFrame out of it.", 
            "cell_type": "markdown", 
            "metadata": {}
        }, 
        {
            "execution_count": 59, 
            "cell_type": "code", 
            "metadata": {}, 
            "outputs": [
                {
                    "execution_count": 59, 
                    "metadata": {}, 
                    "data": {
                        "text/html": "<div>\n<style scoped>\n    .dataframe tbody tr th:only-of-type {\n        vertical-align: middle;\n    }\n\n    .dataframe tbody tr th {\n        vertical-align: top;\n    }\n\n    .dataframe thead th {\n        text-align: right;\n    }\n</style>\n<table border=\"1\" class=\"dataframe\">\n  <thead>\n    <tr style=\"text-align: right;\">\n      <th></th>\n      <th>Location</th>\n    </tr>\n  </thead>\n  <tbody>\n    <tr>\n      <th>0</th>\n      <td>Thiruvottiyur</td>\n    </tr>\n    <tr>\n      <th>1</th>\n      <td>Manali</td>\n    </tr>\n    <tr>\n      <th>2</th>\n      <td>Madhavaram</td>\n    </tr>\n    <tr>\n      <th>3</th>\n      <td>Tondiarpet</td>\n    </tr>\n    <tr>\n      <th>4</th>\n      <td>Royapuram</td>\n    </tr>\n    <tr>\n      <th>5</th>\n      <td>Thiru. Vi. Ka. Nagar</td>\n    </tr>\n    <tr>\n      <th>6</th>\n      <td>Ambattur</td>\n    </tr>\n    <tr>\n      <th>7</th>\n      <td>Anna Nagar</td>\n    </tr>\n    <tr>\n      <th>8</th>\n      <td>Teynampet</td>\n    </tr>\n    <tr>\n      <th>9</th>\n      <td>Kodambakkam</td>\n    </tr>\n    <tr>\n      <th>10</th>\n      <td>Valasaravakkam</td>\n    </tr>\n    <tr>\n      <th>11</th>\n      <td>Alandur</td>\n    </tr>\n    <tr>\n      <th>12</th>\n      <td>Adyar</td>\n    </tr>\n    <tr>\n      <th>13</th>\n      <td>Perungudi</td>\n    </tr>\n    <tr>\n      <th>14</th>\n      <td>Sholinganallur</td>\n    </tr>\n  </tbody>\n</table>\n</div>", 
                        "text/plain": "                Location\n0          Thiruvottiyur\n1                 Manali\n2             Madhavaram\n3             Tondiarpet\n4              Royapuram\n5   Thiru. Vi. Ka. Nagar\n6               Ambattur\n7             Anna Nagar\n8              Teynampet\n9            Kodambakkam\n10        Valasaravakkam\n11               Alandur\n12                 Adyar\n13             Perungudi\n14        Sholinganallur"
                    }, 
                    "output_type": "execute_result"
                }
            ], 
            "source": "import pandas as pd\ndf_chennai = pd.DataFrame()\ndf_chennai['Location'] = locations\ndf_chennai"
        }, 
        {
            "source": "We now got all the zone names. Inorder to get the coordinates of these zones we will use 'Geocoders'.", 
            "cell_type": "markdown", 
            "metadata": {}
        }, 
        {
            "execution_count": 60, 
            "cell_type": "code", 
            "metadata": {}, 
            "outputs": [], 
            "source": "from geopy.geocoders import Nominatim\ngeolocator = Nominatim(user_agent=\"Chennai_explorer\")\ndf_chennai['Latitude']= df_chennai['Location'].apply(geolocator.geocode).apply(lambda x: (x.latitude))"
        }, 
        {
            "execution_count": 61, 
            "cell_type": "code", 
            "metadata": {
                "scrolled": false
            }, 
            "outputs": [
                {
                    "execution_count": 61, 
                    "metadata": {}, 
                    "data": {
                        "text/html": "<div>\n<style scoped>\n    .dataframe tbody tr th:only-of-type {\n        vertical-align: middle;\n    }\n\n    .dataframe tbody tr th {\n        vertical-align: top;\n    }\n\n    .dataframe thead th {\n        text-align: right;\n    }\n</style>\n<table border=\"1\" class=\"dataframe\">\n  <thead>\n    <tr style=\"text-align: right;\">\n      <th></th>\n      <th>Location</th>\n      <th>Latitude</th>\n      <th>Longitude</th>\n    </tr>\n  </thead>\n  <tbody>\n    <tr>\n      <th>0</th>\n      <td>Thiruvottiyur</td>\n      <td>13.172222</td>\n      <td>80.304585</td>\n    </tr>\n    <tr>\n      <th>1</th>\n      <td>Manali</td>\n      <td>32.245461</td>\n      <td>77.187293</td>\n    </tr>\n    <tr>\n      <th>2</th>\n      <td>Madhavaram</td>\n      <td>13.142931</td>\n      <td>80.232517</td>\n    </tr>\n    <tr>\n      <th>3</th>\n      <td>Tondiarpet</td>\n      <td>13.127767</td>\n      <td>80.289585</td>\n    </tr>\n    <tr>\n      <th>4</th>\n      <td>Royapuram</td>\n      <td>13.114619</td>\n      <td>80.294028</td>\n    </tr>\n    <tr>\n      <th>5</th>\n      <td>Thiru. Vi. Ka. Nagar</td>\n      <td>13.108472</td>\n      <td>80.248144</td>\n    </tr>\n    <tr>\n      <th>6</th>\n      <td>Ambattur</td>\n      <td>13.119375</td>\n      <td>80.150765</td>\n    </tr>\n    <tr>\n      <th>7</th>\n      <td>Anna Nagar</td>\n      <td>11.170349</td>\n      <td>77.351114</td>\n    </tr>\n    <tr>\n      <th>8</th>\n      <td>Teynampet</td>\n      <td>13.044324</td>\n      <td>80.249846</td>\n    </tr>\n    <tr>\n      <th>9</th>\n      <td>Kodambakkam</td>\n      <td>13.049207</td>\n      <td>80.224283</td>\n    </tr>\n    <tr>\n      <th>10</th>\n      <td>Valasaravakkam</td>\n      <td>13.041016</td>\n      <td>80.172168</td>\n    </tr>\n    <tr>\n      <th>11</th>\n      <td>Alandur</td>\n      <td>12.994373</td>\n      <td>80.194284</td>\n    </tr>\n    <tr>\n      <th>12</th>\n      <td>Adyar</td>\n      <td>13.006450</td>\n      <td>80.257779</td>\n    </tr>\n    <tr>\n      <th>13</th>\n      <td>Perungudi</td>\n      <td>12.971024</td>\n      <td>80.241805</td>\n    </tr>\n    <tr>\n      <th>14</th>\n      <td>Sholinganallur</td>\n      <td>12.893536</td>\n      <td>80.232063</td>\n    </tr>\n  </tbody>\n</table>\n</div>", 
                        "text/plain": "                Location   Latitude  Longitude\n0          Thiruvottiyur  13.172222  80.304585\n1                 Manali  32.245461  77.187293\n2             Madhavaram  13.142931  80.232517\n3             Tondiarpet  13.127767  80.289585\n4              Royapuram  13.114619  80.294028\n5   Thiru. Vi. Ka. Nagar  13.108472  80.248144\n6               Ambattur  13.119375  80.150765\n7             Anna Nagar  11.170349  77.351114\n8              Teynampet  13.044324  80.249846\n9            Kodambakkam  13.049207  80.224283\n10        Valasaravakkam  13.041016  80.172168\n11               Alandur  12.994373  80.194284\n12                 Adyar  13.006450  80.257779\n13             Perungudi  12.971024  80.241805\n14        Sholinganallur  12.893536  80.232063"
                    }, 
                    "output_type": "execute_result"
                }
            ], 
            "source": "df_chennai['Longitude']= df_chennai['Location'].apply(geolocator.geocode).apply(lambda x: (x.longitude))\ndf_chennai"
        }, 
        {
            "source": "<h4> 2. Professional Venue Data </h4>", 
            "cell_type": "markdown", 
            "metadata": {}
        }, 
        {
            "source": "Lets use **Foursquare** to find out which areas have the most professional venues. <br>\nTo do this, lets get all the professional venues in a radies of 1km from the each zone by using the Profesional venues [category ID](https://developer.foursquare.com/docs/resources/categories).", 
            "cell_type": "markdown", 
            "metadata": {}
        }, 
        {
            "execution_count": 63, 
            "cell_type": "code", 
            "metadata": {}, 
            "outputs": [], 
            "source": "# The code was removed by Watson Studio for sharing."
        }, 
        {
            "execution_count": 64, 
            "cell_type": "code", 
            "metadata": {}, 
            "outputs": [], 
            "source": "Professional_category = '4d4b7105d754a06375d81259'\nRADIUS = 1000\nLIMIT = 100\n\ndef getNearbyProfVenues(names, latitudes, longitudes, radius=RADIUS):\n    \n    venues_list=[]\n    for name, lat, lng in zip(names, latitudes, longitudes):\n        \n        # create the API request URL\n        url = 'https://api.foursquare.com/v2/venues/search?categoryId={}&client_id={}&client_secret={}&v={}&ll={},{}&radius={}&limit={}'.format(\n            Professional_category,\n            CLIENT_ID, \n            CLIENT_SECRET, \n            VERSION, \n            lat, \n            lng, \n            radius, \n            LIMIT)\n        try:    \n        # make the GET request\n            results = requests.get(url).json()[\"response\"]['venues']\n        \n            # return only relevant information for each nearby venue\n            venues_list.append([(\n                name, \n                lat, \n                lng, \n                v['name'], \n                v['location']['lat'], \n                v['location']['lng'],  \n                v['categories'][0]['name']) for v in results])\n        except:\n            results = requests.get(url).json()\n    nearby_venues = pd.DataFrame([item for venue_list in venues_list for item in venue_list])\n    nearby_venues.columns = ['Zone(Location)', \n                  'Latitude', \n                  'Longitude', \n                  'Venue', \n                  'Venue_Lat', \n                  'Venue_Long', \n                  'Venue_Category']\n        \n    return(nearby_venues)"
        }, 
        {
            "source": "Create a Dataframe out of the venues details.", 
            "cell_type": "markdown", 
            "metadata": {}
        }, 
        {
            "execution_count": 65, 
            "cell_type": "code", 
            "metadata": {}, 
            "outputs": [], 
            "source": "Chennai_Zones_ProfVenues = getNearbyProfVenues(names=df_chennai['Location'],\n                                   latitudes=df_chennai['Latitude'],\n                                   longitudes=df_chennai['Longitude']\n                                  )"
        }, 
        {
            "execution_count": 66, 
            "cell_type": "code", 
            "metadata": {}, 
            "outputs": [
                {
                    "execution_count": 66, 
                    "metadata": {}, 
                    "data": {
                        "text/html": "<div>\n<style scoped>\n    .dataframe tbody tr th:only-of-type {\n        vertical-align: middle;\n    }\n\n    .dataframe tbody tr th {\n        vertical-align: top;\n    }\n\n    .dataframe thead th {\n        text-align: right;\n    }\n</style>\n<table border=\"1\" class=\"dataframe\">\n  <thead>\n    <tr style=\"text-align: right;\">\n      <th></th>\n      <th>Zone(Location)</th>\n      <th>Latitude</th>\n      <th>Longitude</th>\n      <th>Venue</th>\n      <th>Venue_Lat</th>\n      <th>Venue_Long</th>\n      <th>Venue_Category</th>\n    </tr>\n  </thead>\n  <tbody>\n    <tr>\n      <th>0</th>\n      <td>Thiruvottiyur</td>\n      <td>13.172222</td>\n      <td>80.304585</td>\n      <td>Aakash Hospital</td>\n      <td>13.171589</td>\n      <td>80.304123</td>\n      <td>Hospital</td>\n    </tr>\n    <tr>\n      <th>1</th>\n      <td>Thiruvottiyur</td>\n      <td>13.172222</td>\n      <td>80.304585</td>\n      <td>Sri Anjaneyar Temple</td>\n      <td>13.168089</td>\n      <td>80.310348</td>\n      <td>Temple</td>\n    </tr>\n    <tr>\n      <th>2</th>\n      <td>Thiruvottiyur</td>\n      <td>13.172222</td>\n      <td>80.304585</td>\n      <td>Sri Pattinathar Temple</td>\n      <td>13.163456</td>\n      <td>80.307246</td>\n      <td>Temple</td>\n    </tr>\n    <tr>\n      <th>3</th>\n      <td>Thiruvottiyur</td>\n      <td>13.172222</td>\n      <td>80.304585</td>\n      <td>Royal Enfield</td>\n      <td>13.173354</td>\n      <td>80.307790</td>\n      <td>Factory</td>\n    </tr>\n    <tr>\n      <th>4</th>\n      <td>Thiruvottiyur</td>\n      <td>13.172222</td>\n      <td>80.304585</td>\n      <td>Angel Broking</td>\n      <td>13.167497</td>\n      <td>80.302412</td>\n      <td>Office</td>\n    </tr>\n  </tbody>\n</table>\n</div>", 
                        "text/plain": "  Zone(Location)   Latitude  Longitude                   Venue  Venue_Lat  \\\n0  Thiruvottiyur  13.172222  80.304585         Aakash Hospital  13.171589   \n1  Thiruvottiyur  13.172222  80.304585    Sri Anjaneyar Temple  13.168089   \n2  Thiruvottiyur  13.172222  80.304585  Sri Pattinathar Temple  13.163456   \n3  Thiruvottiyur  13.172222  80.304585           Royal Enfield  13.173354   \n4  Thiruvottiyur  13.172222  80.304585           Angel Broking  13.167497   \n\n   Venue_Long Venue_Category  \n0   80.304123       Hospital  \n1   80.310348         Temple  \n2   80.307246         Temple  \n3   80.307790        Factory  \n4   80.302412         Office  "
                    }, 
                    "output_type": "execute_result"
                }
            ], 
            "source": "Chennai_Zones_ProfVenues.head()"
        }, 
        {
            "source": "<h4> 4. Nearby Venues Data </h4>", 
            "cell_type": "markdown", 
            "metadata": {}
        }, 
        {
            "source": "Like we did early, lets use foursquare to explore 1km around the selected zones and collect venue details.", 
            "cell_type": "markdown", 
            "metadata": {}
        }, 
        {
            "execution_count": 72, 
            "cell_type": "code", 
            "metadata": {}, 
            "outputs": [], 
            "source": "\ndef getNearbyVenues(names, latitudes, longitudes, radius=RADIUS):\n    \n    venues_list=[]\n    for name, lat, lng in zip(names, latitudes, longitudes):\n        \n        # create the API request URL\n        url = 'https://api.foursquare.com/v2/venues/explore?&client_id={}&client_secret={}&v={}&ll={},{}&radius={}&limit={}'.format(\n            CLIENT_ID, \n            CLIENT_SECRET, \n            VERSION, \n            lat, \n            lng, \n            radius, \n            LIMIT)\n            \n        # make the GET request\n        results = requests.get(url).json()[\"response\"]['groups'][0]['items']\n        \n        # return only relevant information for each nearby venue\n        venues_list.append([(\n            name, \n            lat, \n            lng, \n            v['venue']['name'], \n            v['venue']['location']['lat'], \n            v['venue']['location']['lng'],  \n            v['venue']['categories'][0]['name']) for v in results])\n    nearby_venues = pd.DataFrame([item for venue_list in venues_list for item in venue_list])\n    nearby_venues.columns = ['Zone(Location)', \n                  'Latitude', \n                  'Longitude', \n                  'Venue', \n                  'Venue_Lat', \n                  'Venue_Long', \n                  'Venue_Category']\n        \n    return(nearby_venues)\n"
        }, 
        {
            "execution_count": 73, 
            "cell_type": "code", 
            "metadata": {}, 
            "outputs": [], 
            "source": "Chennai_6Zones_Venues = getNearbyVenues(names=Selected_zones_df['Location'],\n                                   latitudes=Selected_zones_df['Latitude'],\n                                   longitudes=Selected_zones_df['Longitude']\n                                  )"
        }, 
        {
            "source": "Use the venue details to create a Dataframe.", 
            "cell_type": "markdown", 
            "metadata": {}
        }, 
        {
            "execution_count": 74, 
            "cell_type": "code", 
            "metadata": {
                "scrolled": true
            }, 
            "outputs": [
                {
                    "execution_count": 74, 
                    "metadata": {}, 
                    "data": {
                        "text/html": "<div>\n<style scoped>\n    .dataframe tbody tr th:only-of-type {\n        vertical-align: middle;\n    }\n\n    .dataframe tbody tr th {\n        vertical-align: top;\n    }\n\n    .dataframe thead th {\n        text-align: right;\n    }\n</style>\n<table border=\"1\" class=\"dataframe\">\n  <thead>\n    <tr style=\"text-align: right;\">\n      <th></th>\n      <th>Zone(Location)</th>\n      <th>Latitude</th>\n      <th>Longitude</th>\n      <th>Venue</th>\n      <th>Venue_Lat</th>\n      <th>Venue_Long</th>\n      <th>Venue_Category</th>\n    </tr>\n  </thead>\n  <tbody>\n    <tr>\n      <th>0</th>\n      <td>Adyar</td>\n      <td>13.00645</td>\n      <td>80.257779</td>\n      <td>Bombay Brassiere</td>\n      <td>13.006961</td>\n      <td>80.256419</td>\n      <td>North Indian Restaurant</td>\n    </tr>\n    <tr>\n      <th>1</th>\n      <td>Adyar</td>\n      <td>13.00645</td>\n      <td>80.257779</td>\n      <td>Cool Biz</td>\n      <td>13.006632</td>\n      <td>80.257275</td>\n      <td>Juice Bar</td>\n    </tr>\n    <tr>\n      <th>2</th>\n      <td>Adyar</td>\n      <td>13.00645</td>\n      <td>80.257779</td>\n      <td>McDonald's</td>\n      <td>13.006632</td>\n      <td>80.254255</td>\n      <td>Burger Joint</td>\n    </tr>\n    <tr>\n      <th>3</th>\n      <td>Adyar</td>\n      <td>13.00645</td>\n      <td>80.257779</td>\n      <td>Prems Graama Bhojanam</td>\n      <td>13.006345</td>\n      <td>80.253995</td>\n      <td>Vegetarian / Vegan Restaurant</td>\n    </tr>\n    <tr>\n      <th>4</th>\n      <td>Adyar</td>\n      <td>13.00645</td>\n      <td>80.257779</td>\n      <td>Adyar Ananda Bhavan</td>\n      <td>13.005824</td>\n      <td>80.257368</td>\n      <td>Indian Restaurant</td>\n    </tr>\n  </tbody>\n</table>\n</div>", 
                        "text/plain": "  Zone(Location)  Latitude  Longitude                  Venue  Venue_Lat  \\\n0          Adyar  13.00645  80.257779       Bombay Brassiere  13.006961   \n1          Adyar  13.00645  80.257779               Cool Biz  13.006632   \n2          Adyar  13.00645  80.257779             McDonald's  13.006632   \n3          Adyar  13.00645  80.257779  Prems Graama Bhojanam  13.006345   \n4          Adyar  13.00645  80.257779    Adyar Ananda Bhavan  13.005824   \n\n   Venue_Long                 Venue_Category  \n0   80.256419        North Indian Restaurant  \n1   80.257275                      Juice Bar  \n2   80.254255                   Burger Joint  \n3   80.253995  Vegetarian / Vegan Restaurant  \n4   80.257368              Indian Restaurant  "
                    }, 
                    "output_type": "execute_result"
                }
            ], 
            "source": "Chennai_6Zones_Venues.head()"
        }, 
        {
            "execution_count": 75, 
            "cell_type": "code", 
            "metadata": {}, 
            "outputs": [
                {
                    "execution_count": 75, 
                    "metadata": {}, 
                    "data": {
                        "text/plain": "215"
                    }, 
                    "output_type": "execute_result"
                }
            ], 
            "source": "Chennai_6Zones_Venues.shape[0]"
        }, 
        {
            "source": "<h4> 4. Pricing Data </h4>", 
            "cell_type": "markdown", 
            "metadata": {}
        }, 
        {
            "source": "Average price per sqft in each selected zone is taken manually from [this website](https://www.99acres.com/property-rates-and-price-trends-in-chennai).", 
            "cell_type": "markdown", 
            "metadata": {}
        }, 
        {
            "execution_count": 83, 
            "cell_type": "code", 
            "metadata": {}, 
            "outputs": [
                {
                    "execution_count": 83, 
                    "metadata": {}, 
                    "data": {
                        "text/html": "<div>\n<style scoped>\n    .dataframe tbody tr th:only-of-type {\n        vertical-align: middle;\n    }\n\n    .dataframe tbody tr th {\n        vertical-align: top;\n    }\n\n    .dataframe thead th {\n        text-align: right;\n    }\n</style>\n<table border=\"1\" class=\"dataframe\">\n  <thead>\n    <tr style=\"text-align: right;\">\n      <th></th>\n      <th>Location</th>\n      <th>Avg Price per sqft</th>\n    </tr>\n  </thead>\n  <tbody>\n    <tr>\n      <th>0</th>\n      <td>Adyar</td>\n      <td>12325</td>\n    </tr>\n    <tr>\n      <th>1</th>\n      <td>Alandur</td>\n      <td>7607</td>\n    </tr>\n    <tr>\n      <th>2</th>\n      <td>Ambattur</td>\n      <td>4420</td>\n    </tr>\n    <tr>\n      <th>3</th>\n      <td>Kodambakkam</td>\n      <td>7607</td>\n    </tr>\n    <tr>\n      <th>4</th>\n      <td>Perungudi</td>\n      <td>6885</td>\n    </tr>\n    <tr>\n      <th>5</th>\n      <td>Teynampet</td>\n      <td>12792</td>\n    </tr>\n  </tbody>\n</table>\n</div>", 
                        "text/plain": "      Location  Avg Price per sqft\n0        Adyar               12325\n1      Alandur                7607\n2     Ambattur                4420\n3  Kodambakkam                7607\n4    Perungudi                6885\n5    Teynampet               12792"
                    }, 
                    "output_type": "execute_result"
                }
            ], 
            "source": "\navg_price_per_sqft = {'Adyar':12325,'Alandur':7607,'Ambattur': 4420,'Kodambakkam':7607,'Perungudi':6885,'Teynampet':12792}\navg_price_df= pd.DataFrame.from_dict(avg_price_per_sqft, orient='index')\navg_price_df = avg_price_df.reset_index()\navg_price_df.columns=['Location', 'Avg Price per sqft']\n\navg_price_df"
        }, 
        {
            "source": "To make more sense of the data, lets plot a bar plot of the data.", 
            "cell_type": "markdown", 
            "metadata": {}
        }, 
        {
            "execution_count": 84, 
            "cell_type": "code", 
            "metadata": {}, 
            "outputs": [
                {
                    "output_type": "display_data", 
                    "data": {
                        "image/png": "[encoded data removed]", 
                        "text/plain": "<Figure size 648x432 with 1 Axes>"
                    }, 
                    "metadata": {
                        "needs_background": "light"
                    }
                }
            ], 
            "source": "fig = plt.figure(figsize=(9,6))\nprice_bar = sns.barplot(x='Location',y ='Avg Price per sqft',data=avg_price_df)\nprice_bar.set_xticklabels(price_bar.get_xticklabels(), rotation=90, fontsize=11)\nplt.xlabel('Zone in Chennai',fontsize=15)\nplt.ylabel('Avg Price per sqft',fontsize=15)\nplt.title('Avg Price comparison among the selected zones')\n\nplt.show()"
        }
    ], 
    "metadata": {
        "kernelspec": {
            "display_name": "Python 3.6", 
            "name": "python3", 
            "language": "python"
        }, 
        "language_info": {
            "mimetype": "text/x-python", 
            "nbconvert_exporter": "python", 
            "version": "3.6.8", 
            "name": "python", 
            "file_extension": ".py", 
            "pygments_lexer": "ipython3", 
            "codemirror_mode": {
                "version": 3, 
                "name": "ipython"
            }
        }
    }, 
    "nbformat": 4
}